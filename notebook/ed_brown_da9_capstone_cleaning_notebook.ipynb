{
 "cells": [
  {
   "cell_type": "code",
   "execution_count": 1,
   "id": "4c068c12",
   "metadata": {},
   "outputs": [],
   "source": [
    "import pandas as pd\n",
    "from matplotlib import pyplot as plt\n",
    "import requests\n",
    "import json\n",
    "from IPython.display import Image"
   ]
  },
  {
   "cell_type": "markdown",
   "id": "4e442d1f",
   "metadata": {},
   "source": [
    "# START HERE #\n",
    "Pulling in the Resident survey results; looks like surveys came in all through out 2018. So, I'll pull in data from at least 2016 all the way up through the end of 2018."
   ]
  },
  {
   "cell_type": "code",
   "execution_count": 2,
   "id": "0ada85ac",
   "metadata": {},
   "outputs": [],
   "source": [
    "survey_df = pd.read_csv('../data/initial_data/Metro_Resident_Survey_Responses.csv')"
   ]
  },
  {
   "cell_type": "code",
   "execution_count": 3,
   "id": "a75af2dc",
   "metadata": {},
   "outputs": [
    {
     "data": {
      "text/html": [
       "<div>\n",
       "<style scoped>\n",
       "    .dataframe tbody tr th:only-of-type {\n",
       "        vertical-align: middle;\n",
       "    }\n",
       "\n",
       "    .dataframe tbody tr th {\n",
       "        vertical-align: top;\n",
       "    }\n",
       "\n",
       "    .dataframe thead th {\n",
       "        text-align: right;\n",
       "    }\n",
       "</style>\n",
       "<table border=\"1\" class=\"dataframe\">\n",
       "  <thead>\n",
       "    <tr style=\"text-align: right;\">\n",
       "      <th></th>\n",
       "      <th>Period</th>\n",
       "      <th>Start Date</th>\n",
       "      <th>End Date</th>\n",
       "      <th>ZIP Code</th>\n",
       "      <th>Service District</th>\n",
       "      <th>Quality of Life</th>\n",
       "      <th>Overall Feeling of Safety</th>\n",
       "      <th>Neighborhood Safety</th>\n",
       "      <th>City Appearance</th>\n",
       "      <th>Neighborhood Appearance</th>\n",
       "      <th>...</th>\n",
       "      <th>Nashville.gov</th>\n",
       "      <th>Parks Maintenance</th>\n",
       "      <th>Violent Crime Victim Services</th>\n",
       "      <th>Crime Victim</th>\n",
       "      <th>MNPD Officer Contact</th>\n",
       "      <th>311 (hubNashville) Usage</th>\n",
       "      <th>Nashville.gov Usage</th>\n",
       "      <th>Metro Elected Official Contact</th>\n",
       "      <th>Public Meeting Attendance</th>\n",
       "      <th>Neighborhood Meeting Attendance</th>\n",
       "    </tr>\n",
       "  </thead>\n",
       "  <tbody>\n",
       "    <tr>\n",
       "      <th>0</th>\n",
       "      <td>2018Q2</td>\n",
       "      <td>6/21/2018</td>\n",
       "      <td>7/16/2018</td>\n",
       "      <td>37208</td>\n",
       "      <td>Urban Services District</td>\n",
       "      <td>Neutral</td>\n",
       "      <td>Neutral</td>\n",
       "      <td>Neutral</td>\n",
       "      <td>Neutral</td>\n",
       "      <td>Satisfied</td>\n",
       "      <td>...</td>\n",
       "      <td>Satisfied</td>\n",
       "      <td>Neutral</td>\n",
       "      <td>Neutral</td>\n",
       "      <td>No</td>\n",
       "      <td>No</td>\n",
       "      <td>NaN</td>\n",
       "      <td>NaN</td>\n",
       "      <td>Yes</td>\n",
       "      <td>No</td>\n",
       "      <td>No</td>\n",
       "    </tr>\n",
       "    <tr>\n",
       "      <th>1</th>\n",
       "      <td>2018Q2</td>\n",
       "      <td>6/21/2018</td>\n",
       "      <td>7/16/2018</td>\n",
       "      <td>37211</td>\n",
       "      <td>Urban Services District</td>\n",
       "      <td>Satisfied</td>\n",
       "      <td>Satisfied</td>\n",
       "      <td>Satisfied</td>\n",
       "      <td>Neutral</td>\n",
       "      <td>Satisfied</td>\n",
       "      <td>...</td>\n",
       "      <td>Don't Know</td>\n",
       "      <td>Satisfied</td>\n",
       "      <td>Don't Know</td>\n",
       "      <td>No</td>\n",
       "      <td>No</td>\n",
       "      <td>No</td>\n",
       "      <td>Yes</td>\n",
       "      <td>Yes</td>\n",
       "      <td>Yes</td>\n",
       "      <td>Yes</td>\n",
       "    </tr>\n",
       "    <tr>\n",
       "      <th>2</th>\n",
       "      <td>2018Q2</td>\n",
       "      <td>6/21/2018</td>\n",
       "      <td>7/16/2018</td>\n",
       "      <td>37208</td>\n",
       "      <td>Urban Services District</td>\n",
       "      <td>Very Satisfied</td>\n",
       "      <td>Neutral</td>\n",
       "      <td>Satisfied</td>\n",
       "      <td>Satisfied</td>\n",
       "      <td>Satisfied</td>\n",
       "      <td>...</td>\n",
       "      <td>Satisfied</td>\n",
       "      <td>Don't Know</td>\n",
       "      <td>Don't Know</td>\n",
       "      <td>No</td>\n",
       "      <td>No</td>\n",
       "      <td>No</td>\n",
       "      <td>Yes</td>\n",
       "      <td>No</td>\n",
       "      <td>No</td>\n",
       "      <td>No</td>\n",
       "    </tr>\n",
       "    <tr>\n",
       "      <th>3</th>\n",
       "      <td>2018Q2</td>\n",
       "      <td>6/21/2018</td>\n",
       "      <td>7/16/2018</td>\n",
       "      <td>37203</td>\n",
       "      <td>Urban Services District</td>\n",
       "      <td>Satisfied</td>\n",
       "      <td>Very Satisfied</td>\n",
       "      <td>Satisfied</td>\n",
       "      <td>Satisfied</td>\n",
       "      <td>Satisfied</td>\n",
       "      <td>...</td>\n",
       "      <td>Neutral</td>\n",
       "      <td>Very Satisfied</td>\n",
       "      <td>Don't Know</td>\n",
       "      <td>No</td>\n",
       "      <td>No</td>\n",
       "      <td>No</td>\n",
       "      <td>Yes</td>\n",
       "      <td>No</td>\n",
       "      <td>Yes</td>\n",
       "      <td>No</td>\n",
       "    </tr>\n",
       "    <tr>\n",
       "      <th>4</th>\n",
       "      <td>2018Q1</td>\n",
       "      <td>2/1/2018</td>\n",
       "      <td>3/6/2018</td>\n",
       "      <td>37138</td>\n",
       "      <td>General Services District</td>\n",
       "      <td>Satisfied</td>\n",
       "      <td>Satisfied</td>\n",
       "      <td>Satisfied</td>\n",
       "      <td>NaN</td>\n",
       "      <td>Satisfied</td>\n",
       "      <td>...</td>\n",
       "      <td>Don't Know</td>\n",
       "      <td>Satisfied</td>\n",
       "      <td>NaN</td>\n",
       "      <td>No</td>\n",
       "      <td>No</td>\n",
       "      <td>No</td>\n",
       "      <td>Yes</td>\n",
       "      <td>NaN</td>\n",
       "      <td>NaN</td>\n",
       "      <td>No</td>\n",
       "    </tr>\n",
       "  </tbody>\n",
       "</table>\n",
       "<p>5 rows × 79 columns</p>\n",
       "</div>"
      ],
      "text/plain": [
       "   Period Start Date   End Date  ZIP Code           Service District  \\\n",
       "0  2018Q2  6/21/2018  7/16/2018     37208    Urban Services District   \n",
       "1  2018Q2  6/21/2018  7/16/2018     37211    Urban Services District   \n",
       "2  2018Q2  6/21/2018  7/16/2018     37208    Urban Services District   \n",
       "3  2018Q2  6/21/2018  7/16/2018     37203    Urban Services District   \n",
       "4  2018Q1   2/1/2018   3/6/2018     37138  General Services District   \n",
       "\n",
       "  Quality of Life Overall Feeling of Safety Neighborhood Safety  \\\n",
       "0         Neutral                   Neutral             Neutral   \n",
       "1       Satisfied                 Satisfied           Satisfied   \n",
       "2  Very Satisfied                   Neutral           Satisfied   \n",
       "3       Satisfied            Very Satisfied           Satisfied   \n",
       "4       Satisfied                 Satisfied           Satisfied   \n",
       "\n",
       "  City Appearance Neighborhood Appearance  ... Nashville.gov  \\\n",
       "0         Neutral               Satisfied  ...     Satisfied   \n",
       "1         Neutral               Satisfied  ...    Don't Know   \n",
       "2       Satisfied               Satisfied  ...     Satisfied   \n",
       "3       Satisfied               Satisfied  ...       Neutral   \n",
       "4             NaN               Satisfied  ...    Don't Know   \n",
       "\n",
       "  Parks Maintenance Violent Crime Victim Services Crime Victim  \\\n",
       "0           Neutral                       Neutral           No   \n",
       "1         Satisfied                    Don't Know           No   \n",
       "2        Don't Know                    Don't Know           No   \n",
       "3    Very Satisfied                    Don't Know           No   \n",
       "4         Satisfied                           NaN           No   \n",
       "\n",
       "  MNPD Officer Contact 311 (hubNashville) Usage Nashville.gov Usage  \\\n",
       "0                   No                      NaN                 NaN   \n",
       "1                   No                       No                 Yes   \n",
       "2                   No                       No                 Yes   \n",
       "3                   No                       No                 Yes   \n",
       "4                   No                       No                 Yes   \n",
       "\n",
       "  Metro Elected Official Contact Public Meeting Attendance  \\\n",
       "0                            Yes                        No   \n",
       "1                            Yes                       Yes   \n",
       "2                             No                        No   \n",
       "3                             No                       Yes   \n",
       "4                            NaN                       NaN   \n",
       "\n",
       "  Neighborhood Meeting Attendance  \n",
       "0                              No  \n",
       "1                             Yes  \n",
       "2                              No  \n",
       "3                              No  \n",
       "4                              No  \n",
       "\n",
       "[5 rows x 79 columns]"
      ]
     },
     "execution_count": 3,
     "metadata": {},
     "output_type": "execute_result"
    }
   ],
   "source": [
    "survey_df.head()"
   ]
  },
  {
   "cell_type": "code",
   "execution_count": 4,
   "id": "2cd25c35",
   "metadata": {},
   "outputs": [
    {
     "name": "stdout",
     "output_type": "stream",
     "text": [
      "<class 'pandas.core.frame.DataFrame'>\n",
      "RangeIndex: 2171 entries, 0 to 2170\n",
      "Data columns (total 79 columns):\n",
      " #   Column                                     Non-Null Count  Dtype \n",
      "---  ------                                     --------------  ----- \n",
      " 0   Period                                     2171 non-null   object\n",
      " 1   Start Date                                 2171 non-null   object\n",
      " 2   End Date                                   2171 non-null   object\n",
      " 3   ZIP Code                                   2171 non-null   int64 \n",
      " 4   Service District                           2170 non-null   object\n",
      " 5   Quality of Life                            2171 non-null   object\n",
      " 6   Overall Feeling of Safety                  2171 non-null   object\n",
      " 7   Neighborhood Safety                        2171 non-null   object\n",
      " 8   City Appearance                            1771 non-null   object\n",
      " 9   Neighborhood Appearance                    2171 non-null   object\n",
      " 10  Nashville as Residence                     2171 non-null   object\n",
      " 11  Nashville as Place to Raise Children       2171 non-null   object\n",
      " 12  Nashville as Workplace                     2171 non-null   object\n",
      " 13  Nashville as Place to Start/Grow Business  1771 non-null   object\n",
      " 14  Nashville as Retirement Place              2171 non-null   object\n",
      " 15  Metro Services - Overall                   2171 non-null   object\n",
      " 16  Value Received from Taxes                  2171 non-null   object\n",
      " 17  Elected Official Leadership                2171 non-null   object\n",
      " 18  Elected Official Responsiveness            1771 non-null   object\n",
      " 19  Elected Official Accessibility             1771 non-null   object\n",
      " 20  Metro Transparency and Ethics              2171 non-null   object\n",
      " 21  Metro Budgeting and Stewardship            1771 non-null   object\n",
      " 22  Customer Service                           2171 non-null   object\n",
      " 23  Metro Communication                        2171 non-null   object\n",
      " 24  Decision Input Opportunity                 2171 non-null   object\n",
      " 25  Crime Prevention                           2171 non-null   object\n",
      " 26  Police - Overall                           2171 non-null   object\n",
      " 27  Fire and EMS - Overall                     2171 non-null   object\n",
      " 28  Streets and Sidewalks - Overall            2171 non-null   object\n",
      " 29  Trash and Recycling - Overall              2171 non-null   object\n",
      " 30  Code Enforcement - Overall                 1771 non-null   object\n",
      " 31  Public Transit - Overall                   2171 non-null   object\n",
      " 32  Water Services - Overall                   1771 non-null   object\n",
      " 33  2nd Priority Service                       1544 non-null   object\n",
      " 34  3rd Priority Service                       1531 non-null   object\n",
      " 35  4th Priority Service                       1497 non-null   object\n",
      " 36  5th Priority Service                       1442 non-null   object\n",
      " 37  City Street Maintenance                    2171 non-null   object\n",
      " 38  Street Signs and Traffic Signals           2171 non-null   object\n",
      " 39  Pedestrian Infrastructure                  1771 non-null   object\n",
      " 40  Curb Space Management                      1771 non-null   object\n",
      " 41  Trash Service                              2171 non-null   object\n",
      " 42  Curbside Recycling                         2171 non-null   object\n",
      " 43  Drop-off Recycling                         2171 non-null   object\n",
      " 44  Street Lighting                            2171 non-null   object\n",
      " 45  Public Works Personnel Professionalism     1771 non-null   object\n",
      " 46  Police Visibility                          2171 non-null   object\n",
      " 47  Traffic Enforcement                        2171 non-null   object\n",
      " 48  Police Professionalism                     2171 non-null   object\n",
      " 49  Police Response Time                       2171 non-null   object\n",
      " 50  Youth Violence Programs                    1771 non-null   object\n",
      " 51  Fire Services                              2171 non-null   object\n",
      " 52  Fire Response Time                         2171 non-null   object\n",
      " 53  Emergency Medical Services (EMS)           2171 non-null   object\n",
      " 54  EMS Response Time                          2171 non-null   object\n",
      " 55  Fire Professionalism                       2171 non-null   object\n",
      " 56  EMS Professionalism                        2171 non-null   object\n",
      " 57  MTA Personnel Professionalism              1771 non-null   object\n",
      " 58  Trash and Debris Enforcement               2171 non-null   object\n",
      " 59  Lawn and Brush Enforcement                 2171 non-null   object\n",
      " 60  Exterior Maintenance Enforcement           2171 non-null   object\n",
      " 61  Short-Term Rental Enforcement              2171 non-null   object\n",
      " 62  STRP Complaint Hotline                     1771 non-null   object\n",
      " 63  Codes Personnel Professionalism            1771 non-null   object\n",
      " 64  Codes Responsiveness                       1771 non-null   object\n",
      " 65  911 Services                               2171 non-null   object\n",
      " 66  Non-Emergency Number                       2171 non-null   object\n",
      " 67  hubNashville (311)                         2171 non-null   object\n",
      " 68  Program Information Availability           2171 non-null   object\n",
      " 69  Nashville.gov                              2171 non-null   object\n",
      " 70  Parks Maintenance                          2171 non-null   object\n",
      " 71  Violent Crime Victim Services              1771 non-null   object\n",
      " 72  Crime Victim                               2149 non-null   object\n",
      " 73  MNPD Officer Contact                       2147 non-null   object\n",
      " 74  311 (hubNashville) Usage                   2139 non-null   object\n",
      " 75  Nashville.gov Usage                        2138 non-null   object\n",
      " 76  Metro Elected Official Contact             1750 non-null   object\n",
      " 77  Public Meeting Attendance                  1750 non-null   object\n",
      " 78  Neighborhood Meeting Attendance            2143 non-null   object\n",
      "dtypes: int64(1), object(78)\n",
      "memory usage: 1.3+ MB\n"
     ]
    }
   ],
   "source": [
    "survey_df.info()"
   ]
  },
  {
   "cell_type": "code",
   "execution_count": 5,
   "id": "62c6cf6c",
   "metadata": {},
   "outputs": [
    {
     "data": {
      "text/plain": [
       "'11/19/2018'"
      ]
     },
     "execution_count": 5,
     "metadata": {},
     "output_type": "execute_result"
    }
   ],
   "source": [
    "survey_df['Start Date'].min()"
   ]
  },
  {
   "cell_type": "code",
   "execution_count": 6,
   "id": "9b8c21e7",
   "metadata": {},
   "outputs": [
    {
     "data": {
      "text/plain": [
       "'9/6/2018'"
      ]
     },
     "execution_count": 6,
     "metadata": {},
     "output_type": "execute_result"
    }
   ],
   "source": [
    "survey_df['Start Date'].max()"
   ]
  },
  {
   "cell_type": "code",
   "execution_count": 7,
   "id": "7e970abc",
   "metadata": {},
   "outputs": [
    {
     "data": {
      "text/plain": [
       "'10/17/2018'"
      ]
     },
     "execution_count": 7,
     "metadata": {},
     "output_type": "execute_result"
    }
   ],
   "source": [
    "survey_df['End Date'].min()"
   ]
  },
  {
   "cell_type": "code",
   "execution_count": 8,
   "id": "c1408cca",
   "metadata": {},
   "outputs": [
    {
     "data": {
      "text/plain": [
       "'7/16/2018'"
      ]
     },
     "execution_count": 8,
     "metadata": {},
     "output_type": "execute_result"
    }
   ],
   "source": [
    "survey_df['End Date'].max()"
   ]
  },
  {
   "cell_type": "markdown",
   "id": "fbabc063",
   "metadata": {},
   "source": [
    "# METRO POLICE CALL FOR SERVICE #\n",
    "Pulling in the data relevant to timeframe using API."
   ]
  },
  {
   "cell_type": "code",
   "execution_count": null,
   "id": "82e43981",
   "metadata": {},
   "outputs": [],
   "source": [
    "endpoint1 = 'https://data.nashville.gov/resource/kwnd-qrrm.json'#?$where=call_rec between \"2016-01-01\" and \"2018-12-31\"'\n",
    "\n",
    "params1 = {\n",
    "  '$limit':6000000,  \n",
    "  '$where':'call_rec between \"2016-01-01\" and \"2018-12-31\"'\n",
    "}\n",
    "\n",
    "response1 = requests.get(endpoint1, params=params1)"
   ]
  },
  {
   "cell_type": "code",
   "execution_count": null,
   "id": "0453ebe5",
   "metadata": {},
   "outputs": [],
   "source": [
    "response1"
   ]
  },
  {
   "cell_type": "code",
   "execution_count": null,
   "id": "a388142b",
   "metadata": {},
   "outputs": [],
   "source": [
    "pd_service_calls = pd.DataFrame(response1.json())\n",
    "pd_service_calls"
   ]
  },
  {
   "cell_type": "code",
   "execution_count": null,
   "id": "ba2a3c3b",
   "metadata": {},
   "outputs": [],
   "source": [
    "pd_service_calls['call_rec'].min()"
   ]
  },
  {
   "cell_type": "code",
   "execution_count": null,
   "id": "9deb186a",
   "metadata": {},
   "outputs": [],
   "source": [
    "pd_service_calls['call_rec'].max()"
   ]
  },
  {
   "cell_type": "code",
   "execution_count": null,
   "id": "9475c0bd",
   "metadata": {},
   "outputs": [],
   "source": [
    "pd_service_calls.to_csv('police_calls_for_service.csv')"
   ]
  },
  {
   "cell_type": "markdown",
   "id": "ee4be14c",
   "metadata": {},
   "source": [
    "# END/METRO POLICE CALLS FOR SERVICE#\n",
    "Got that - now for incident reports."
   ]
  },
  {
   "cell_type": "markdown",
   "id": "764f5b0b",
   "metadata": {},
   "source": [
    "# METRO POLICE INCIDENTS #\n",
    "Pulling this data, again from 2016 to 2018."
   ]
  },
  {
   "cell_type": "code",
   "execution_count": null,
   "id": "2aca7279",
   "metadata": {},
   "outputs": [],
   "source": [
    "endpoint2 = 'https://data.nashville.gov/resource/2u6v-ujjs.json'\n",
    "\n",
    "params2 = {\n",
    "  '$limit':6000000,  \n",
    "  '$where':'incident_occured between \"2016-01-01\" and \"2018-12-31\"',\n",
    "  '$where':'incident_reported between \"2016-01-01\" and \"2018-12-31\"'  \n",
    "}\n",
    "\n",
    "response2 = requests.get(endpoint2, params=params2)"
   ]
  },
  {
   "cell_type": "code",
   "execution_count": null,
   "id": "a5a4d604",
   "metadata": {},
   "outputs": [],
   "source": [
    "pd_incidents = pd.DataFrame(response2.json())\n",
    "pd_incidents"
   ]
  },
  {
   "cell_type": "code",
   "execution_count": null,
   "id": "bb41ecae",
   "metadata": {},
   "outputs": [],
   "source": [
    "pd_incidents['incident_occurred'].min()"
   ]
  },
  {
   "cell_type": "code",
   "execution_count": null,
   "id": "2c0ad724",
   "metadata": {},
   "outputs": [],
   "source": [
    "pd_incidents['incident_occurred'].max()"
   ]
  },
  {
   "cell_type": "code",
   "execution_count": null,
   "id": "ad923929",
   "metadata": {},
   "outputs": [],
   "source": [
    "pd_incidents['incident_reported'].min()"
   ]
  },
  {
   "cell_type": "code",
   "execution_count": null,
   "id": "80a68778",
   "metadata": {},
   "outputs": [],
   "source": [
    "pd_incidents['incident_reported'].max()"
   ]
  },
  {
   "cell_type": "code",
   "execution_count": null,
   "id": "96c93c1c",
   "metadata": {},
   "outputs": [],
   "source": [
    "pd_incidents.to_csv('police_incidents.csv')"
   ]
  },
  {
   "cell_type": "markdown",
   "id": "b68e0649",
   "metadata": {},
   "source": [
    "# END/METRO POLICE INCIDENTS #\n",
    "One more data set to go..."
   ]
  },
  {
   "cell_type": "markdown",
   "id": "24e52a3d",
   "metadata": {},
   "source": [
    "# HubNashville Service Requests #\n",
    "Now to pull this set, again 2016 thru 2018."
   ]
  },
  {
   "cell_type": "code",
   "execution_count": null,
   "id": "6ec96f0c",
   "metadata": {},
   "outputs": [],
   "source": [
    "endpoint3 = 'https://data.nashville.gov/resource/7qhx-rexh.json'\n",
    "\n",
    "params3 = {\n",
    "  '$limit':6000000,  \n",
    "  '$where':'date_time_opened between \"2016-01-01\" and \"2018-12-31\"',  \n",
    "}\n",
    "\n",
    "response3 = requests.get(endpoint3, params=params3)"
   ]
  },
  {
   "cell_type": "code",
   "execution_count": null,
   "id": "afd77388",
   "metadata": {},
   "outputs": [],
   "source": [
    "hubnashville_requests = pd.DataFrame(response3.json())\n",
    "hubnashville_requests"
   ]
  },
  {
   "cell_type": "code",
   "execution_count": null,
   "id": "1da17e62",
   "metadata": {},
   "outputs": [],
   "source": [
    "hubnashville_requests['date_time_opened'].min()"
   ]
  },
  {
   "cell_type": "code",
   "execution_count": null,
   "id": "2bcf131e",
   "metadata": {},
   "outputs": [],
   "source": [
    "hubnashville_requests['date_time_opened'].max()"
   ]
  },
  {
   "cell_type": "code",
   "execution_count": null,
   "id": "7997d568",
   "metadata": {},
   "outputs": [],
   "source": [
    "hubnashville_requests.to_csv('hubnashville_requests.csv')"
   ]
  },
  {
   "cell_type": "markdown",
   "id": "588b011b",
   "metadata": {},
   "source": [
    "# END/HubNashville Requests #"
   ]
  },
  {
   "cell_type": "markdown",
   "id": "48f7d005",
   "metadata": {},
   "source": [
    "# SURVEY CLEANING AND EDA #\n",
    "Now time to start looking at the hubNashville Survey results, and clean up as necessary."
   ]
  },
  {
   "cell_type": "code",
   "execution_count": null,
   "id": "e8d835ca",
   "metadata": {},
   "outputs": [],
   "source": [
    "survey_df.info(verbose=True)"
   ]
  },
  {
   "cell_type": "code",
   "execution_count": null,
   "id": "41132470",
   "metadata": {},
   "outputs": [],
   "source": [
    "survey_df = survey_df.drop(columns=['Affordable Housing Preference',\n",
    "                                    'Commute by Walking, Biking, or Bus',\n",
    "                                    'Rideshare / Bikeshare Usage',\n",
    "                                    "
   ]
  }
 ],
 "metadata": {
  "kernelspec": {
   "display_name": "Python 3 (ipykernel)",
   "language": "python",
   "name": "python3"
  },
  "language_info": {
   "codemirror_mode": {
    "name": "ipython",
    "version": 3
   },
   "file_extension": ".py",
   "mimetype": "text/x-python",
   "name": "python",
   "nbconvert_exporter": "python",
   "pygments_lexer": "ipython3",
   "version": "3.10.9"
  }
 },
 "nbformat": 4,
 "nbformat_minor": 5
}
